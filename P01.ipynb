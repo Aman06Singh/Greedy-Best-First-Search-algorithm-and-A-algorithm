{
  "nbformat": 4,
  "nbformat_minor": 5,
  "metadata": {
    "kernelspec": {
      "display_name": "Python 3",
      "language": "python",
      "name": "python3"
    },
    "language_info": {
      "codemirror_mode": {
        "name": "ipython",
        "version": 3
      },
      "file_extension": ".py",
      "mimetype": "text/x-python",
      "name": "python",
      "nbconvert_exporter": "python",
      "pygments_lexer": "ipython3",
      "version": "3.6.8"
    },
    "colab": {
      "name": "cs480_P01_A20491333.ipynb",
      "provenance": [],
      "collapsed_sections": []
    }
  },
  "cells": [
    {
      "cell_type": "code",
      "metadata": {
        "id": "91454ca4"
      },
      "source": [
        "import sys\n",
        "import timeit\n",
        "from heapq import heappop, heappush"
      ],
      "id": "91454ca4",
      "execution_count": 286,
      "outputs": []
    },
    {
      "cell_type": "code",
      "metadata": {
        "id": "bQIm-UEdbil4"
      },
      "source": [
        "args = sys.argv[1:]"
      ],
      "id": "bQIm-UEdbil4",
      "execution_count": 287,
      "outputs": []
    },
    {
      "cell_type": "code",
      "metadata": {
        "id": "0jmglkREdyGB"
      },
      "source": [
        "# exit if user does not enter two parameters\n",
        "if len(args) != 2:\n",
        "    print(\"ERROR: Not enough or too many input arguments.\")\n",
        "    exit()\n"
      ],
      "id": "0jmglkREdyGB",
      "execution_count": 288,
      "outputs": []
    },
    {
      "cell_type": "code",
      "metadata": {
        "id": "10d0987e"
      },
      "source": [
        "# Defining the initial and goal state \n",
        "INITIAL = \"NM\" #Initial State\n",
        "GOAL = \"MS\" #Goal State"
      ],
      "id": "10d0987e",
      "execution_count": 289,
      "outputs": []
    },
    {
      "cell_type": "code",
      "metadata": {
        "id": "cd6cf3b9"
      },
      "source": [
        "# Loading the csv files\n",
        "driving = open('/content/driving.csv')\n",
        "straight = open('/content/straightline.csv')"
      ],
      "id": "cd6cf3b9",
      "execution_count": 290,
      "outputs": []
    },
    {
      "cell_type": "code",
      "metadata": {
        "id": "c3e9b00b"
      },
      "source": [
        "# dictionary initialization \n",
        "state_neighbors = {}\n",
        "straight_distances = {}"
      ],
      "id": "c3e9b00b",
      "execution_count": 291,
      "outputs": []
    },
    {
      "cell_type": "code",
      "metadata": {
        "id": "a70ce53f"
      },
      "source": [
        "# enumerating list data\n",
        "driving_enum = enumerate(driving)\n",
        "straight_enum = enumerate(straight)"
      ],
      "id": "a70ce53f",
      "execution_count": 292,
      "outputs": []
    },
    {
      "cell_type": "code",
      "metadata": {
        "id": "dfac9b89"
      },
      "source": [
        "# Node class which hold all parents node and its cost\n",
        "class Node:\n",
        "    def __init__(self, state, parent, pathCost, heuristics, algorithm):\n",
        "        self.STATE = state\n",
        "        self.PARENT = parent\n",
        "        self.COST = pathCost\n",
        "        self.NEIGHBORS = {}\n",
        "        self.HEURISTICS = heuristics\n",
        "        if algorithm == 'greedy_best_first_search':\n",
        "            self.EVAL = self.HEURISTICS\n",
        "        elif algorithm == 'a_star_algorithm':\n",
        "            self.EVAL = self.COST + self.HEURISTICS\n",
        "        \n",
        "    def getState(self):\n",
        "        return self.STATE\n",
        "        \n",
        "    def getParent(self):\n",
        "        return self.PARENT\n",
        "\n",
        "    def getPathCost(self):\n",
        "        return self.PATHCOST\n",
        "        \n",
        "    def getHeuristics(self):\n",
        "        return self.HEURISTICS\n",
        "      \n",
        "    def getEval(self):\n",
        "        return self.EVAL\n",
        "      \n",
        "    def __lt__(self, other):\n",
        "        return self.getEval() < other.getEval()"
      ],
      "id": "dfac9b89",
      "execution_count": 293,
      "outputs": []
    },
    {
      "cell_type": "code",
      "metadata": {
        "id": "61ddb334"
      },
      "source": [
        "# Fills two maps passed as inputs. State name to TreeNode and state name to distance to the target.\n",
        "# The third input is the target name\n",
        "\n",
        "stOrder = None\n",
        "for index, row in driving_enum:\n",
        "    if index == 0:\n",
        "        # splitting data\n",
        "        stOrder = row.split(\",\")[1:]\n",
        "        stOrder[-1] = stOrder[-1][:-1]\n",
        "        continue\n",
        "    start = stOrder[index - 1]\n",
        "    state_neighbors[start] = {}\n",
        "    data = row.split(\",\")\n",
        "    data[-1] = data[-1][:-1]\n",
        "    for j in range(1, len(data)):\n",
        "        value = int(data[j])\n",
        "        if value in [0, -1]:\n",
        "            continue\n",
        "        state_neighbors[start][stOrder[j - 1]] = value\n",
        "driving.close()\n"
      ],
      "id": "61ddb334",
      "execution_count": 294,
      "outputs": []
    },
    {
      "cell_type": "code",
      "metadata": {
        "colab": {
          "base_uri": "https://localhost:8080/"
        },
        "id": "5fa0105b",
        "outputId": "1660f74b-5b79-4905-c21d-6af3e49496cb"
      },
      "source": [
        "state_neighbors"
      ],
      "id": "5fa0105b",
      "execution_count": 295,
      "outputs": [
        {
          "output_type": "execute_result",
          "data": {
            "text/plain": [
              "{'AL': {'FL': 210, 'GA': 160, 'MS': 248, 'TN': 281},\n",
              " 'AR': {'LA': 344, 'MO': 345, 'MS': 263, 'OK': 340, 'TN': 349, 'TX': 514},\n",
              " 'AZ': {'CA': 755, 'NM': 480, 'NV': 733, 'UT': 659},\n",
              " 'CA': {'AZ': 755, 'NV': 131, 'OR': 535},\n",
              " 'CO': {'KS': 541, 'NE': 487, 'NM': 392, 'OK': 679, 'UT': 521, 'WY': 102},\n",
              " 'CT': {'MA': 102, 'NY': 114, 'RI': 87},\n",
              " 'DC': {'MD': 35, 'VA': 106},\n",
              " 'DE': {'MD': 64, 'NJ': 112, 'PA': 129},\n",
              " 'FL': {'AL': 210, 'GA': 260},\n",
              " 'GA': {'AL': 160, 'FL': 260, 'NC': 260, 'SC': 214, 'TN': 250},\n",
              " 'IA': {'IL': 335, 'MN': 245, 'MO': 266, 'NE': 187, 'SD': 503, 'WI': 293},\n",
              " 'ID': {'MT': 480, 'NV': 449, 'OR': 476, 'UT': 344, 'WA': 534, 'WY': 737},\n",
              " 'IL': {'IA': 335, 'IN': 211, 'KY': 373, 'MO': 195, 'WI': 263},\n",
              " 'IN': {'IL': 211, 'KY': 164, 'MI': 254, 'OH': 173},\n",
              " 'KS': {'CO': 541, 'MO': 220, 'NE': 165, 'OK': 293},\n",
              " 'KY': {'IL': 373,\n",
              "  'IN': 164,\n",
              "  'MO': 446,\n",
              "  'OH': 192,\n",
              "  'TN': 208,\n",
              "  'VA': 513,\n",
              "  'WV': 198},\n",
              " 'LA': {'AR': 344, 'MS': 623, 'TX': 1067},\n",
              " 'MA': {'CT': 104, 'NH': 68, 'NY': 170, 'RI': 50, 'VT': 180},\n",
              " 'MD': {'DC': 35, 'DE': 64, 'PA': 112, 'VA': 142, 'WV': 385},\n",
              " 'ME': {'NH': 164},\n",
              " 'MI': {'IN': 254, 'OH': 256, 'WI': 372},\n",
              " 'MN': {'IA': 245, 'ND': 437, 'SD': 397, 'WI': 263},\n",
              " 'MO': {'AR': 345,\n",
              "  'IA': 266,\n",
              "  'IL': 195,\n",
              "  'KS': 220,\n",
              "  'KY': 446,\n",
              "  'NE': 349,\n",
              "  'OK': 420,\n",
              "  'TN': 438},\n",
              " 'MS': {'AL': 248, 'AR': 263, 'LA': 623, 'TN': 418},\n",
              " 'MT': {'ID': 480, 'ND': 613, 'SD': 730, 'WY': 693},\n",
              " 'NC': {'GA': 260, 'SC': 225, 'TN': 544, 'VA': 172},\n",
              " 'ND': {'MN': 437, 'MT': 613, 'SD': 210},\n",
              " 'NE': {'CO': 487, 'IA': 187, 'KS': 165, 'MO': 349, 'SD': 409, 'WY': 444},\n",
              " 'NH': {'MA': 68, 'ME': 164, 'VT': 116},\n",
              " 'NJ': {'DE': 64, 'NY': 205, 'PA': 127},\n",
              " 'NM': {'AZ': 480, 'CO': 392, 'OK': 534, 'TX': 688},\n",
              " 'NV': {'AZ': 733, 'CA': 131, 'ID': 449, 'OR': 518, 'UT': 546},\n",
              " 'NY': {'CT': 114, 'MA': 170, 'NJ': 205, 'PA': 293, 'VT': 158},\n",
              " 'OH': {'IN': 173, 'KY': 192, 'MI': 256, 'PA': 368, 'WV': 162},\n",
              " 'OK': {'AR': 340, 'CO': 679, 'KS': 293, 'MO': 420, 'NM': 534, 'TX': 388},\n",
              " 'OR': {'CA': 535, 'ID': 476, 'NV': 518, 'WA': 160},\n",
              " 'PA': {'DE': 129, 'MD': 112, 'NJ': 127, 'NY': 293, 'OH': 368, 'WV': 366},\n",
              " 'RI': {'CT': 102, 'MA': 104},\n",
              " 'SC': {'GA': 214, 'NC': 225},\n",
              " 'SD': {'IA': 503, 'MN': 397, 'MT': 730, 'ND': 210, 'NE': 409, 'WY': 425},\n",
              " 'TN': {'AL': 281,\n",
              "  'AR': 349,\n",
              "  'GA': 250,\n",
              "  'KY': 208,\n",
              "  'MO': 438,\n",
              "  'MS': 418,\n",
              "  'NC': 544,\n",
              "  'VA': 614},\n",
              " 'TX': {'AR': 514, 'LA': 1067, 'NM': 688, 'OK': 388},\n",
              " 'UT': {'AZ': 659, 'CO': 521, 'ID': 344, 'NV': 546, 'WY': 440},\n",
              " 'VA': {'DC': 106, 'KY': 513, 'MD': 142, 'NC': 172, 'TN': 614, 'WV': 316},\n",
              " 'VT': {'MA': 180, 'NH': 116, 'NY': 158},\n",
              " 'WA': {'ID': 534, 'OR': 160},\n",
              " 'WI': {'IA': 293, 'IL': 263, 'MI': 372, 'MN': 263},\n",
              " 'WV': {'KY': 198, 'MD': 385, 'OH': 162, 'PA': 366, 'VA': 316},\n",
              " 'WY': {'CO': 102, 'ID': 737, 'MT': 693, 'NE': 444, 'SD': 425, 'UT': 440}}"
            ]
          },
          "metadata": {},
          "execution_count": 295
        }
      ]
    },
    {
      "cell_type": "code",
      "metadata": {
        "id": "0b498f3c"
      },
      "source": [
        "for index, row in straight_enum:\n",
        "    if index == 0 or index > len(stOrder):\n",
        "        continue\n",
        "    data = row.split(\",\")\n",
        "    data[-1] = data[-1][:-1]\n",
        "    start = stOrder[index - 1]\n",
        "    for j in range(1, len(stOrder) + 1):\n",
        "        if start == GOAL:\n",
        "            straight_distances[stOrder[j - 1]] = int(data[j])\n",
        "straight.close()\n"
      ],
      "id": "0b498f3c",
      "execution_count": 296,
      "outputs": []
    },
    {
      "cell_type": "code",
      "metadata": {
        "colab": {
          "base_uri": "https://localhost:8080/"
        },
        "id": "1af68257",
        "outputId": "5268d421-ba9b-496c-ee60-7bf2b0896328"
      },
      "source": [
        "straight_distances"
      ],
      "id": "1af68257",
      "execution_count": 297,
      "outputs": [
        {
          "output_type": "execute_result",
          "data": {
            "text/plain": [
              "{'AL': 227,\n",
              " 'AR': 208,\n",
              " 'AZ': 1279,\n",
              " 'CA': 1806,\n",
              " 'CO': 972,\n",
              " 'CT': 1162,\n",
              " 'DC': 867,\n",
              " 'DE': 947,\n",
              " 'FL': 371,\n",
              " 'GA': 350,\n",
              " 'IA': 670,\n",
              " 'ID': 1609,\n",
              " 'IL': 519,\n",
              " 'IN': 563,\n",
              " 'KS': 559,\n",
              " 'KY': 506,\n",
              " 'LA': 141,\n",
              " 'MA': 1255,\n",
              " 'MD': 895,\n",
              " 'ME': 1377,\n",
              " 'MI': 784,\n",
              " 'MN': 834,\n",
              " 'MO': 448,\n",
              " 'MS': 0,\n",
              " 'MT': 1519,\n",
              " 'NC': 703,\n",
              " 'ND': 1148,\n",
              " 'NE': 690,\n",
              " 'NH': 1262,\n",
              " 'NJ': 1017,\n",
              " 'NM': 931,\n",
              " 'NV': 1715,\n",
              " 'NY': 1147,\n",
              " 'OH': 664,\n",
              " 'OK': 474,\n",
              " 'OR': 1959,\n",
              " 'PA': 921,\n",
              " 'RI': 1222,\n",
              " 'SC': 542,\n",
              " 'SD': 998,\n",
              " 'TN': 330,\n",
              " 'TX': 468,\n",
              " 'UT': 1334,\n",
              " 'VA': 807,\n",
              " 'VT': 1285,\n",
              " 'WA': 1995,\n",
              " 'WI': 746,\n",
              " 'WV': 638,\n",
              " 'WY': 1013}"
            ]
          },
          "metadata": {},
          "execution_count": 297
        }
      ]
    },
    {
      "cell_type": "code",
      "metadata": {
        "id": "b4011a43"
      },
      "source": [
        "def greedy_best_first_search():\n",
        "    # Starting time\n",
        "    timeStart = timeit.default_timer()\n",
        "    state = INITIAL\n",
        "    # Creating initial node\n",
        "    node = Node(state, None, float(\"inf\"), 0, \"greedy_best_first_search\")\n",
        "    node.NEIGHBORS = state_neighbors[INITIAL]\n",
        "    node.COST = 0\n",
        "    try:\n",
        "        frtr = [[straight_distances[INITIAL],INITIAL,node]]\n",
        "        reached_state = {INITIAL:node}\n",
        "        finished = False\n",
        "        while frtr:\n",
        "            node = heappop(frtr)[2]\n",
        "            if node.STATE == GOAL:\n",
        "                finished = True\n",
        "                break\n",
        "            for neighbor in node.NEIGHBORS:\n",
        "                if neighbor not in reached_state or node.COST + node.NEIGHBORS[neighbor] < reached_state[neighbor].COST:\n",
        "                    if neighbor not in reached_state:\n",
        "                        reached_state[neighbor] = Node(neighbor, None, float(\"inf\"), 0, \"greedy_best_first_search\")\n",
        "                        reached_state[neighbor].COST = node.COST + node.NEIGHBORS[neighbor]\n",
        "                        reached_state[neighbor].NEIGHBORS = state_neighbors[neighbor]\n",
        "                    reached_state[neighbor].COST = node.COST + node.NEIGHBORS[neighbor]\n",
        "                    reached_state[neighbor].PARENT = node\n",
        "                    heappush(frtr, [straight_distances[neighbor],neighbor,reached_state[neighbor]])\n",
        "                    \n",
        "        timeEnd = timeit.default_timer()\n",
        "        totalCost = node.COST\n",
        "        path_string = node.STATE\n",
        "        while node.PARENT:\n",
        "            node = node.PARENT\n",
        "            path_string = node.STATE+\" \"+path_string\n",
        "\n",
        "        path_list = path_string.split(' ')\n",
        "\n",
        "        return \"Greedy Best First: \\n\"+ \"Initial: \"+INITIAL+\" | Goal: \"+GOAL+\" | Path: \"+str(path_list)+\"\\nPath cost: \"+str(totalCost)+\" miles\\nExecution time: \"+str(timeEnd-timeStart)+\" seconds\"\n",
        "    except:\n",
        "        timeEnd = timeit.default_timer()\n",
        "        return \"Path not found / failure\\nGreedy Best First: \\n\"+ \"Initial: \"+INITIAL+\" | Goal: \"+GOAL+\" | Path: [NOT FOUND] \\nPath cost: N/A miles\\nExecution time: \"+str(timeEnd-timeStart)+\" seconds\"\n"
      ],
      "id": "b4011a43",
      "execution_count": 298,
      "outputs": []
    },
    {
      "cell_type": "code",
      "metadata": {
        "id": "fd028dd5"
      },
      "source": [
        "def a_star_algorithm():\n",
        "    timeStart = timeit.default_timer()\n",
        "    state = INITIAL\n",
        "    node = Node(state, None, float(\"inf\"), 0, \"a_star_algorithm\")\n",
        "    node.NEIGHBORS = state_neighbors[INITIAL]\n",
        "    node.COST = 0\n",
        "    try:\n",
        "        frtr = [[straight_distances[INITIAL],INITIAL,node]]\n",
        "        reached_state = {INITIAL:node}\n",
        "        finished = False\n",
        "        while frtr:\n",
        "            node = heappop(frtr)[2]\n",
        "            if node.STATE == GOAL:\n",
        "                finished = True\n",
        "                break\n",
        "            for neighbor in node.NEIGHBORS:\n",
        "                if neighbor not in reached_state or node.COST + node.NEIGHBORS[neighbor] < reached_state[neighbor].COST:\n",
        "                    if neighbor not in reached_state:\n",
        "                        reached_state[neighbor] = Node(neighbor, None, float(\"inf\"), 0, \"greedy_best_first_search\")\n",
        "                        reached_state[neighbor].COST = node.COST + node.NEIGHBORS[neighbor]\n",
        "                        reached_state[neighbor].NEIGHBORS = state_neighbors[neighbor]\n",
        "                    reached_state[neighbor].COST = node.COST + node.NEIGHBORS[neighbor]\n",
        "                    reached_state[neighbor].PARENT = node\n",
        "                    heappush(frtr, [reached_state[neighbor].COST+straight_distances[neighbor],neighbor,reached_state[neighbor]]) # a_star_algorithm\n",
        "                    \n",
        "        timeEnd = timeit.default_timer()\n",
        "        totalCost = node.COST\n",
        "        path_string = node.STATE\n",
        "        while node.PARENT:\n",
        "            node = node.PARENT\n",
        "            path_string = node.STATE+\" \"+path_string\n",
        "\n",
        "        path_list = path_string.split(' ')\n",
        "\n",
        "\n",
        "        return \"A* : \\n\"+ \"Initial: \"+INITIAL+\" | Goal: \"+GOAL+\" | Path: \"+str(path_list)+\"\\nPath cost: \"+str(totalCost)+\" miles\\nExecution time: \"+str(timeEnd-timeStart)+\" seconds\"\n",
        "    except:\n",
        "        timeEnd = timeit.default_timer()\n",
        "        return \"Path not found / failure\\nA*: \\n\"+ \"Initial: \"+INITIAL+\" | Goal: \"+GOAL+\" | Path: [NOT FOUND] \\nPath cost: N/A miles\\nExecution time: \"+str(timeEnd-timeStart)+\" seconds\"\n"
      ],
      "id": "fd028dd5",
      "execution_count": 299,
      "outputs": []
    },
    {
      "cell_type": "code",
      "metadata": {
        "colab": {
          "base_uri": "https://localhost:8080/"
        },
        "id": "2bd0f48b",
        "outputId": "8837c06d-fc32-42ce-89cf-8cb9ada9e639"
      },
      "source": [
        "print(\"SINGH, AMAN, A20491333 SOLUTION:\\n\")\n",
        "print(greedy_best_first_search()+\"\\n \\n\"+a_star_algorithm())"
      ],
      "id": "2bd0f48b",
      "execution_count": 302,
      "outputs": [
        {
          "output_type": "stream",
          "name": "stdout",
          "text": [
            "SINGH, AMAN, A20491333 SOLUTION:\n",
            "\n",
            "Greedy Best First: \n",
            "Initial: NM | Goal: MS | Path: ['NM', 'TX', 'LA', 'MS']\n",
            "Path cost: 2378 miles\n",
            "Execution time: 4.14120004279539e-05 seconds\n",
            " \n",
            "A* : \n",
            "Initial: NM | Goal: MS | Path: ['NM', 'OK', 'AR', 'MS']\n",
            "Path cost: 1137 miles\n",
            "Execution time: 3.408600059628952e-05 seconds\n"
          ]
        }
      ]
    },
    {
      "cell_type": "code",
      "metadata": {
        "id": "TOziZckbEsd5"
      },
      "source": [
        ""
      ],
      "id": "TOziZckbEsd5",
      "execution_count": 300,
      "outputs": []
    }
  ]
}